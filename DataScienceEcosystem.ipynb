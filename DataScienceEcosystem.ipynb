{
 "cells": [
  {
   "cell_type": "markdown",
   "id": "1a280fe0-e8a0-4785-bd5c-bcd2a717ef93",
   "metadata": {},
   "source": [
    "# Data Science Tools and Ecosystem"
   ]
  },
  {
   "cell_type": "markdown",
   "id": "ec7b0cce-d805-4ae8-b5a6-777d7cfada88",
   "metadata": {},
   "source": [
    "In this notebook, Data Science Tools and Ecosystems are summarized."
   ]
  },
  {
   "cell_type": "markdown",
   "id": "701e0e81-78fb-4a68-84ec-53d68260419b",
   "metadata": {},
   "source": [
    "Some of the popular languages that Data Scientists use are:\n",
    "1. Python\n",
    "2. R\n",
    "3. SQL\n",
    "4. Java\n",
    "5. Julia\n",
    "6. Scala"
   ]
  },
  {
   "cell_type": "markdown",
   "id": "f4628df6-6bc8-4940-843d-be6a3103e956",
   "metadata": {},
   "source": [
    "* Listing some popular Data Science languages\n",
    "* Listing some popular Data Science libraries\n",
    "* Performing some basic arithmetic\n",
    "* Listing some Data Science tools"
   ]
  },
  {
   "cell_type": "markdown",
   "id": "4fcbac4b-37a1-4d85-a278-1e957197433c",
   "metadata": {},
   "source": [
    "Some of the commonly used libraries used by Data Scientists include:\n",
    "1. Pandas\n",
    "2. NumPy\n",
    "3. Matplotlib\n",
    "4. Plotly\n",
    "5. ScikitLearn\n",
    "6. TensorFlow\n",
    "7. Keras"
   ]
  },
  {
   "cell_type": "markdown",
   "id": "8cbfb2cb-4d9e-46a4-bf24-245c2dc44495",
   "metadata": {},
   "source": [
    "| Data Science Tools |\n",
    "|-------------|\n",
    "| Anaconda     |\n",
    "| Jupyter     |\n",
    "| Google Colab     |\n"
   ]
  },
  {
   "cell_type": "markdown",
   "id": "5e5f16a6-b58a-4f45-b3cf-174811f5f75a",
   "metadata": {},
   "source": [
    "### Below are a few examples of evaluating arithmetic expressions in python"
   ]
  },
  {
   "cell_type": "code",
   "execution_count": 1,
   "id": "ba668fe4-f944-4062-976c-3864ec3f6c89",
   "metadata": {},
   "outputs": [
    {
     "data": {
      "text/plain": [
       "17"
      ]
     },
     "execution_count": 1,
     "metadata": {},
     "output_type": "execute_result"
    }
   ],
   "source": [
    "#This is a simple code to multiply then add integers\n",
    "(3*4)+5"
   ]
  },
  {
   "cell_type": "code",
   "execution_count": 5,
   "id": "72228b9e-74af-4c26-9d51-fe872e6b56e2",
   "metadata": {},
   "outputs": [
    {
     "name": "stdout",
     "output_type": "stream",
     "text": [
      "3.3333333333333335hrs\n"
     ]
    }
   ],
   "source": [
    "#This will convert 200 minutes to hours by dividing by 60\n",
    "a=200 \n",
    "b=60\n",
    "c=a/b\n",
    "#Displaying the result\n",
    "print(str(c)+\"hrs\")"
   ]
  },
  {
   "cell_type": "markdown",
   "id": "0da8f973-d4c5-4d9c-bc09-dfa33de6982c",
   "metadata": {},
   "source": [
    "## Author\n",
    "   Nana Asabere"
   ]
  },
  {
   "cell_type": "code",
   "execution_count": null,
   "id": "c5e81956-2cf5-4ba5-9612-ab280a776265",
   "metadata": {},
   "outputs": [],
   "source": []
  }
 ],
 "metadata": {
  "kernelspec": {
   "display_name": "Python 3 (ipykernel)",
   "language": "python",
   "name": "python3"
  },
  "language_info": {
   "codemirror_mode": {
    "name": "ipython",
    "version": 3
   },
   "file_extension": ".py",
   "mimetype": "text/x-python",
   "name": "python",
   "nbconvert_exporter": "python",
   "pygments_lexer": "ipython3",
   "version": "3.12.8"
  }
 },
 "nbformat": 4,
 "nbformat_minor": 5
}
